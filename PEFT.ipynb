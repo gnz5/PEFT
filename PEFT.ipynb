{
 "cells": [
  {
   "cell_type": "markdown",
   "id": "78c5458c-2f6c-49bb-88d3-515cfbec302e",
   "metadata": {},
   "source": [
    "# Parameter-Efficient Fine Tuning with LoRA\n",
    "\n",
    "Instead of completely retraining a model with millions or billions of parameters on the specific task data, one can freeze all the model weights and replace a subset of them with a much smaller number of trainable weights. Good performance, relative to a fully trained model, is achieved by clever use of rank decomposition of a matrix, whereby we have two low-rank matrices that when multiplied together yield the same number of weights that were replaced. The important assumption is that, for downstream tasks, only a small subset of these parameters are important for performance. This makes sense given that large LLMs learn a variety of general features of language from their training corpus, while a task like sentiment analysis only requires using a fraction of those features. So, to summarize, we are approximating weight matrices with pairs of low-rank matrices while maintaining decent performance and significantly improving training speed."
   ]
  },
  {
   "cell_type": "code",
   "execution_count": 23,
   "id": "b28af86d-5d94-4cd8-a3fc-8cd1d540ad4a",
   "metadata": {},
   "outputs": [],
   "source": [
    "import evaluate\n",
    "import matplotlib.pyplot as plt\n",
    "import numpy as np\n",
    "import os\n",
    "import torch\n",
    "import warnings\n",
    "\n",
    "from datasets import load_dataset, DatasetDict, Dataset\n",
    "from huggingface_hub import login\n",
    "from peft import PeftModel, PeftConfig, get_peft_model, LoraConfig\n",
    "from transformers import (\n",
    "    AutoTokenizer,\n",
    "    AutoConfig, \n",
    "    AutoModelForSequenceClassification,\n",
    "    DataCollatorWithPadding,\n",
    "    TrainingArguments,\n",
    "    Trainer)\n",
    "\n",
    "warnings.simplefilter('ignore', UserWarning)"
   ]
  },
  {
   "cell_type": "markdown",
   "id": "59a17790-bb78-474c-a715-b11a9e99e546",
   "metadata": {},
   "source": [
    "# Model: distilbert-base-uncased\n",
    "\n",
    "url: https://huggingface.co/distilbert/distilbert-base-uncased\n",
    "\n",
    "paper: https://arxiv.org/abs/1910.01108\n",
    "\n",
    "Trained for Masked Language Modeling (MLM) and encodes a bidirectonal representation of input sequences like BERT. Achieves similar performance to BERT but with 40% less parameters. DistilBERT loss function also trains for outputting the probabilities of the original BERT and having the same hidden states."
   ]
  },
  {
   "cell_type": "markdown",
   "id": "dbdce6d8-b3b5-4691-bc57-2523c34c272e",
   "metadata": {},
   "source": [
    "# Dataset: zeroshot/twitter-financial-news-sentiment\n",
    "\n",
    "url: https://huggingface.co/datasets/zeroshot/twitter-financial-news-sentiment\n",
    "\n",
    "Sequences are financial news tweets. Each sequence is labeled 0, 1, 2 corresponding to \"bearish,\" \"bullish,\" and \"neutral\" respectively. Model performance before and after training is compared."
   ]
  },
  {
   "cell_type": "code",
   "execution_count": 2,
   "id": "03e06141-04f7-4ef6-ac7f-ecedb51ffea7",
   "metadata": {},
   "outputs": [
    {
     "name": "stdout",
     "output_type": "stream",
     "text": [
      "DatasetDict({\n",
      "    train: Dataset({\n",
      "        features: ['text', 'label'],\n",
      "        num_rows: 9543\n",
      "    })\n",
      "    validation: Dataset({\n",
      "        features: ['text', 'label'],\n",
      "        num_rows: 2388\n",
      "    })\n",
      "})\n"
     ]
    }
   ],
   "source": [
    "device = 'cuda'\n",
    "model_name = 'distilbert-base-uncased'\n",
    "dataset_path = 'zeroshot/twitter-financial-news-sentiment'\n",
    "\n",
    "dataset = load_dataset(dataset_path)\n",
    "print(dataset)"
   ]
  },
  {
   "cell_type": "code",
   "execution_count": 3,
   "id": "f1769278-95f3-4e95-bc86-a68e3ff705e9",
   "metadata": {},
   "outputs": [],
   "source": [
    "METRICS = ['accuracy', 'recall', 'precision', 'f1']\n",
    "model_performance = {}\n",
    "model_performance['untuned'] = {}\n",
    "model_performance['untuned']['train'] = {}\n",
    "model_performance['untuned']['val'] = {}\n",
    "\n",
    "model_performance['tuned'] = {}\n",
    "model_performance['tuned']['epochs_1'] = {}\n",
    "model_performance['tuned']['epochs_1']['train'] = {}\n",
    "model_performance['tuned']['epochs_1']['val'] = {}\n",
    "\n",
    "model_performance['tuned']['epochs_5'] = {}\n",
    "model_performance['tuned']['epochs_5']['train'] = {}\n",
    "model_performance['tuned']['epochs_5']['val'] = {}"
   ]
  },
  {
   "cell_type": "code",
   "execution_count": 4,
   "id": "af246fdc-12aa-4bc8-be88-cbcfb20c876d",
   "metadata": {},
   "outputs": [
    {
     "name": "stdout",
     "output_type": "stream",
     "text": [
      "Training (9543 rows)\n",
      "\t0: 15.1%\n",
      "\t1: 20.2%\n",
      "\t2: 64.7%\n",
      "\n",
      "Validation (2388 rows)\n",
      "\t0: 14.5%\n",
      "\t1: 19.9%\n",
      "\t2: 65.6%\n"
     ]
    }
   ],
   "source": [
    "n_training = dataset['train'].num_rows\n",
    "n_val = dataset['validation'].num_rows\n",
    "class_labels = [0, 1, 2]\n",
    "\n",
    "print(f'Training ({n_training} rows)')\n",
    "for class_label in class_labels:\n",
    "    class_label_count = np.sum(np.array(dataset['train']['label']) == class_label)\n",
    "    print(f'\\t{class_label}: {np.round((class_label_count/n_training)*100, 1)}%')\n",
    "\n",
    "print(f'\\nValidation ({n_val} rows)')\n",
    "for class_label in class_labels:\n",
    "    class_label_count = np.sum(np.array(dataset['validation']['label']) == class_label)\n",
    "    print(f'\\t{class_label}: {np.round((class_label_count/n_val)*100, 1)}%')"
   ]
  },
  {
   "cell_type": "markdown",
   "id": "d380f238-022d-4eb4-9f5a-1a9e8d4e240e",
   "metadata": {},
   "source": [
    "# Load the pretrained distilbert-base-uncased model and provide the API a class label mapping.\n",
    "\n",
    "Base model has embedding, transformers (6), and fully-connected blocks."
   ]
  },
  {
   "cell_type": "code",
   "execution_count": 5,
   "id": "b31f6363-2788-4aa3-99ee-d422ec3df942",
   "metadata": {},
   "outputs": [
    {
     "name": "stderr",
     "output_type": "stream",
     "text": [
      "Some weights of DistilBertForSequenceClassification were not initialized from the model checkpoint at distilbert-base-uncased and are newly initialized: ['classifier.bias', 'classifier.weight', 'pre_classifier.bias', 'pre_classifier.weight']\n",
      "You should probably TRAIN this model on a down-stream task to be able to use it for predictions and inference.\n"
     ]
    },
    {
     "name": "stdout",
     "output_type": "stream",
     "text": [
      "DistilBertForSequenceClassification(\n",
      "  (distilbert): DistilBertModel(\n",
      "    (embeddings): Embeddings(\n",
      "      (word_embeddings): Embedding(30522, 768, padding_idx=0)\n",
      "      (position_embeddings): Embedding(512, 768)\n",
      "      (LayerNorm): LayerNorm((768,), eps=1e-12, elementwise_affine=True)\n",
      "      (dropout): Dropout(p=0.1, inplace=False)\n",
      "    )\n",
      "    (transformer): Transformer(\n",
      "      (layer): ModuleList(\n",
      "        (0-5): 6 x TransformerBlock(\n",
      "          (attention): MultiHeadSelfAttention(\n",
      "            (dropout): Dropout(p=0.1, inplace=False)\n",
      "            (q_lin): Linear(in_features=768, out_features=768, bias=True)\n",
      "            (k_lin): Linear(in_features=768, out_features=768, bias=True)\n",
      "            (v_lin): Linear(in_features=768, out_features=768, bias=True)\n",
      "            (out_lin): Linear(in_features=768, out_features=768, bias=True)\n",
      "          )\n",
      "          (sa_layer_norm): LayerNorm((768,), eps=1e-12, elementwise_affine=True)\n",
      "          (ffn): FFN(\n",
      "            (dropout): Dropout(p=0.1, inplace=False)\n",
      "            (lin1): Linear(in_features=768, out_features=3072, bias=True)\n",
      "            (lin2): Linear(in_features=3072, out_features=768, bias=True)\n",
      "            (activation): GELUActivation()\n",
      "          )\n",
      "          (output_layer_norm): LayerNorm((768,), eps=1e-12, elementwise_affine=True)\n",
      "        )\n",
      "      )\n",
      "    )\n",
      "  )\n",
      "  (pre_classifier): Linear(in_features=768, out_features=768, bias=True)\n",
      "  (classifier): Linear(in_features=768, out_features=3, bias=True)\n",
      "  (dropout): Dropout(p=0.2, inplace=False)\n",
      ")\n"
     ]
    }
   ],
   "source": [
    "id2label = {\n",
    "    0: \"Bearish\", \n",
    "    1: \"Bullish\",\n",
    "    2: \"Neutral\"\n",
    "}\n",
    "\n",
    "label2id = {}\n",
    "for k in id2label.keys():\n",
    "    label2id[id2label[k]] = k\n",
    "\n",
    "model = AutoModelForSequenceClassification.from_pretrained(\n",
    "    model_name, num_labels=len(id2label.keys()), id2label=id2label, label2id=label2id\n",
    ")\n",
    "\n",
    "model.to(device)\n",
    "print(model)"
   ]
  },
  {
   "cell_type": "markdown",
   "id": "1412b73f-7b57-43ad-9d4e-ae7fec7e12a0",
   "metadata": {},
   "source": [
    "# Light preprocessing to make sequence lengths uniform. Using a data collator will minimize the number of padding tokens required by batching sequences logically."
   ]
  },
  {
   "cell_type": "code",
   "execution_count": 6,
   "id": "9ec00992-2e25-4cc8-8b66-71cfff9cfd86",
   "metadata": {},
   "outputs": [],
   "source": [
    "def tokenize_function(samples):\n",
    "    tokenizer.truncation_side = \"left\"\n",
    "    return tokenizer(samples[\"text\"], return_tensors=\"np\", truncation=True, max_length=512)\n",
    "\n",
    "def get_accuracy(probabilities):\n",
    "    predictions, labels = probabilities\n",
    "    predictions = np.argmax(predictions, axis=1)\n",
    "    acc = accuracy.compute(predictions=predictions, references=labels)\n",
    "    return {\"accuracy\": acc}\n",
    "\n",
    "# returns a dictionary with keys for accuracy, recall, precision, and f1\n",
    "def evaluate_model(model, predictions, references):\n",
    "    metric_dict = {}\n",
    "    for metric in METRICS:\n",
    "        evaluator = evaluate.load(metric)\n",
    "        if metric != 'accuracy':\n",
    "            metric_dict[metric] = evaluator.compute(predictions=predictions, references=references, average=\"weighted\")[metric]\n",
    "        else:\n",
    "            metric_dict[metric] = evaluator.compute(predictions=predictions, references=references)[metric]\n",
    "        metric_dict[metric] = round(metric_dict[metric], 4)\n",
    "    return metric_dict\n",
    "\n",
    "\n",
    "\n",
    "tokenizer = AutoTokenizer.from_pretrained(model_name, add_prefix_space=True)\n",
    "\n",
    "if tokenizer.pad_token is None:\n",
    "    tokenizer.add_special_tokens({'pad_token': '[PAD]'})\n",
    "    model.resize_token_embeddings(len(tokenizer))\n",
    "\n",
    "tokenized_dataset = dataset.map(tokenize_function, batched=True)\n",
    "data_collator = DataCollatorWithPadding(tokenizer=tokenizer)\n",
    "accuracy = evaluate.load(\"accuracy\");"
   ]
  },
  {
   "cell_type": "markdown",
   "id": "0e9a2a1f-5bc4-46ee-b8d8-fa5f98875a58",
   "metadata": {},
   "source": [
    "# Untuned performance"
   ]
  },
  {
   "cell_type": "code",
   "execution_count": 7,
   "id": "17962998-169d-4767-b9d0-c17d529736d7",
   "metadata": {},
   "outputs": [
    {
     "name": "stdout",
     "output_type": "stream",
     "text": [
      "Example predictions before fine-tuning:\n",
      "\n",
      "Dropbox on watch after stinging Spruce Point report. ...         :          Bearish\n",
      "Disney downgraded as analyst says parks attendance could tak ... :          Bearish\n",
      "Freeport upgraded as Credit Suisse sees big buying opportuni ... :          Bearish\n",
      "MKM Partners puts a number on Victoria's Secret ...              :          Bearish\n",
      "TJX Q3 FactSet consensus 66 cents ...                            :          Bearish\n",
      "The Fed may lower the rate on its support facility for money ... :          Bearish\n"
     ]
    }
   ],
   "source": [
    "examples = [\n",
    "    \"Dropbox on watch after stinging Spruce Point report.\",                                                              \n",
    "    \"Disney downgraded as analyst says parks attendance could take 2 years to 'normalize' https://t.co/InJKourtW3.\",     \n",
    "    \"Freeport upgraded as Credit Suisse sees big buying opportunity https://t.co/d4TGqrNi7Y.\",                           \n",
    "    \"MKM Partners puts a number on Victoria's Secret\",                                                                   \n",
    "    \"TJX Q3 FactSet consensus 66 cents\",                                                                                 \n",
    "    \"The Fed may lower the rate on its support facility for money market funds, strategists say https://t.co/FrLrivydji\" \n",
    "]\n",
    "\n",
    "print('Example predictions before fine-tuning:\\n')\n",
    "for example in examples:\n",
    "    inputs = tokenizer.encode(example, return_tensors=\"pt\").to(device)\n",
    "    logits = model(inputs).logits\n",
    "    predictions = torch.argmax(logits)\n",
    "    snippet = f'{example[:60]} ... '.ljust(65, ' ') + ':'\n",
    "    print(f'{snippet:75} {id2label[predictions.tolist()]}')"
   ]
  },
  {
   "cell_type": "code",
   "execution_count": 8,
   "id": "e75bf462-813b-4df3-9efa-1af85051cc4a",
   "metadata": {},
   "outputs": [
    {
     "name": "stdout",
     "output_type": "stream",
     "text": [
      "train: {'accuracy': 0.1676, 'recall': 0.1676, 'precision': 0.5662, 'f1': 0.0929}\n",
      "validation: {'accuracy': 0.1499, 'recall': 0.1499, 'precision': 0.5835, 'f1': 0.0799}\n"
     ]
    }
   ],
   "source": [
    "x_train = dataset['train']['text']\n",
    "y_train = dataset['train']['label']\n",
    "x_val = dataset['validation']['text']\n",
    "y_val = dataset['validation']['label']\n",
    "\n",
    "predictions = []\n",
    "for x in x_train:\n",
    "    inputs = tokenizer.encode(x, return_tensors=\"pt\").to(device)\n",
    "    logits = model(inputs).logits\n",
    "    prediction = int(torch.argmax(logits))\n",
    "    predictions.append(prediction)\n",
    "\n",
    "model_performance['untuned']['train'] = evaluate_model(model, predictions, y_train)\n",
    "print(f'train: {model_performance['untuned']['train']}')\n",
    "\n",
    "predictions = []\n",
    "for x in x_val:\n",
    "    inputs = tokenizer.encode(x, return_tensors=\"pt\").to(device)\n",
    "    logits = model(inputs).logits\n",
    "    prediction = int(torch.argmax(logits))\n",
    "    predictions.append(prediction)\n",
    "\n",
    "model_performance['untuned']['val'] = evaluate_model(model, predictions, y_val)\n",
    "print(f'validation: {model_performance['untuned']['val']}')"
   ]
  },
  {
   "cell_type": "markdown",
   "id": "962fd20e-6fe6-4927-804a-44ec84a73903",
   "metadata": {},
   "source": [
    "# PEFT parameters"
   ]
  },
  {
   "cell_type": "code",
   "execution_count": 9,
   "id": "97e9c19f-b047-4b8d-977b-02fa760ebcb2",
   "metadata": {},
   "outputs": [
    {
     "name": "stdout",
     "output_type": "stream",
     "text": [
      "LoraConfig(peft_type=<PeftType.LORA: 'LORA'>, auto_mapping=None, base_model_name_or_path=None, revision=None, task_type='SEQ_CLS', inference_mode=False, r=4, target_modules={'q_lin'}, lora_alpha=32, lora_dropout=0.01, fan_in_fan_out=False, bias='none', use_rslora=False, modules_to_save=None, init_lora_weights=True, layers_to_transform=None, layers_pattern=None, rank_pattern={}, alpha_pattern={}, megatron_config=None, megatron_core='megatron.core', loftq_config={}, use_dora=False, layer_replication=None)\n"
     ]
    }
   ],
   "source": [
    "peft_config = LoraConfig(\n",
    "    task_type=\"SEQ_CLS\",        # Specifies a Text classification task\n",
    "    r=4,                        # Rank of the matrix of trainable weights (a higher rank means more trainable parameters)\n",
    "    lora_alpha=32,              # Alpha parameter of lora scaling\n",
    "    lora_dropout=0.01,          # Dropout probability of the lora layer\n",
    "    target_modules = ['q_lin']  # The names of the modules in the original model to replace with the lora layer\n",
    ")\n",
    "print(peft_config)"
   ]
  },
  {
   "cell_type": "code",
   "execution_count": 10,
   "id": "e2116c09-16e6-464c-9b10-83df29f33832",
   "metadata": {},
   "outputs": [
    {
     "name": "stdout",
     "output_type": "stream",
     "text": [
      "trainable params: 629,763 || all params: 67,585,542 || trainable%: 0.9318013607111414\n"
     ]
    },
    {
     "data": {
      "text/plain": [
       "PeftModelForSequenceClassification(\n",
       "  (base_model): LoraModel(\n",
       "    (model): DistilBertForSequenceClassification(\n",
       "      (distilbert): DistilBertModel(\n",
       "        (embeddings): Embeddings(\n",
       "          (word_embeddings): Embedding(30522, 768, padding_idx=0)\n",
       "          (position_embeddings): Embedding(512, 768)\n",
       "          (LayerNorm): LayerNorm((768,), eps=1e-12, elementwise_affine=True)\n",
       "          (dropout): Dropout(p=0.1, inplace=False)\n",
       "        )\n",
       "        (transformer): Transformer(\n",
       "          (layer): ModuleList(\n",
       "            (0-5): 6 x TransformerBlock(\n",
       "              (attention): MultiHeadSelfAttention(\n",
       "                (dropout): Dropout(p=0.1, inplace=False)\n",
       "                (q_lin): lora.Linear(\n",
       "                  (base_layer): Linear(in_features=768, out_features=768, bias=True)\n",
       "                  (lora_dropout): ModuleDict(\n",
       "                    (default): Dropout(p=0.01, inplace=False)\n",
       "                  )\n",
       "                  (lora_A): ModuleDict(\n",
       "                    (default): Linear(in_features=768, out_features=4, bias=False)\n",
       "                  )\n",
       "                  (lora_B): ModuleDict(\n",
       "                    (default): Linear(in_features=4, out_features=768, bias=False)\n",
       "                  )\n",
       "                  (lora_embedding_A): ParameterDict()\n",
       "                  (lora_embedding_B): ParameterDict()\n",
       "                )\n",
       "                (k_lin): Linear(in_features=768, out_features=768, bias=True)\n",
       "                (v_lin): Linear(in_features=768, out_features=768, bias=True)\n",
       "                (out_lin): Linear(in_features=768, out_features=768, bias=True)\n",
       "              )\n",
       "              (sa_layer_norm): LayerNorm((768,), eps=1e-12, elementwise_affine=True)\n",
       "              (ffn): FFN(\n",
       "                (dropout): Dropout(p=0.1, inplace=False)\n",
       "                (lin1): Linear(in_features=768, out_features=3072, bias=True)\n",
       "                (lin2): Linear(in_features=3072, out_features=768, bias=True)\n",
       "                (activation): GELUActivation()\n",
       "              )\n",
       "              (output_layer_norm): LayerNorm((768,), eps=1e-12, elementwise_affine=True)\n",
       "            )\n",
       "          )\n",
       "        )\n",
       "      )\n",
       "      (pre_classifier): ModulesToSaveWrapper(\n",
       "        (original_module): Linear(in_features=768, out_features=768, bias=True)\n",
       "        (modules_to_save): ModuleDict(\n",
       "          (default): Linear(in_features=768, out_features=768, bias=True)\n",
       "        )\n",
       "      )\n",
       "      (classifier): ModulesToSaveWrapper(\n",
       "        (original_module): Linear(in_features=768, out_features=3, bias=True)\n",
       "        (modules_to_save): ModuleDict(\n",
       "          (default): Linear(in_features=768, out_features=3, bias=True)\n",
       "        )\n",
       "      )\n",
       "      (dropout): Dropout(p=0.2, inplace=False)\n",
       "    )\n",
       "  )\n",
       ")"
      ]
     },
     "execution_count": 10,
     "metadata": {},
     "output_type": "execute_result"
    }
   ],
   "source": [
    "model = get_peft_model(model, peft_config)\n",
    "model.print_trainable_parameters()\n",
    "model.to(device)"
   ]
  },
  {
   "cell_type": "markdown",
   "id": "6942ee92-e181-45ea-aaed-d575d3681b36",
   "metadata": {},
   "source": [
    "# Training hyperparmeters"
   ]
  },
  {
   "cell_type": "code",
   "execution_count": 11,
   "id": "a73458b5-4faf-46fe-acb4-9e5bd857d8d6",
   "metadata": {},
   "outputs": [
    {
     "data": {
      "text/html": [
       "\n",
       "    <div>\n",
       "      \n",
       "      <progress value='2386' max='2386' style='width:300px; height:20px; vertical-align: middle;'></progress>\n",
       "      [2386/2386 00:40, Epoch 1/1]\n",
       "    </div>\n",
       "    <table border=\"1\" class=\"dataframe\">\n",
       "  <thead>\n",
       " <tr style=\"text-align: left;\">\n",
       "      <th>Epoch</th>\n",
       "      <th>Training Loss</th>\n",
       "      <th>Validation Loss</th>\n",
       "      <th>Accuracy</th>\n",
       "    </tr>\n",
       "  </thead>\n",
       "  <tbody>\n",
       "    <tr>\n",
       "      <td>1</td>\n",
       "      <td>0.526600</td>\n",
       "      <td>0.429581</td>\n",
       "      <td>{'accuracy': 0.8467336683417085}</td>\n",
       "    </tr>\n",
       "  </tbody>\n",
       "</table><p>"
      ],
      "text/plain": [
       "<IPython.core.display.HTML object>"
      ]
     },
     "metadata": {},
     "output_type": "display_data"
    }
   ],
   "source": [
    "lr = 1e-3\n",
    "batch_size = 4\n",
    "n_epochs = 1\n",
    "strategy = 'epoch'\n",
    "reg_strength = 0.01\n",
    "\n",
    "output_dir = f'./{model_name}-sentiment-analysis'\n",
    "\n",
    "# encapsulate our hyperparameters with a TrainingArguments object\n",
    "training_args = TrainingArguments(\n",
    "    output_dir=output_dir,\n",
    "    learning_rate=lr,\n",
    "    per_device_train_batch_size=batch_size,\n",
    "    per_device_eval_batch_size=batch_size,\n",
    "    num_train_epochs=n_epochs,\n",
    "    weight_decay=reg_strength,\n",
    "    evaluation_strategy=strategy,\n",
    "    save_strategy=strategy,\n",
    "    load_best_model_at_end=True,\n",
    ")\n",
    "\n",
    "# everything we need to train and evaluate the model will be encapsulated by this Trainer object\n",
    "trainer = Trainer(\n",
    "    model=model,\n",
    "    args=training_args,\n",
    "    train_dataset=tokenized_dataset[\"train\"],\n",
    "    eval_dataset=tokenized_dataset[\"validation\"],\n",
    "    tokenizer=tokenizer,\n",
    "    data_collator=data_collator,\n",
    "    compute_metrics=get_accuracy,\n",
    ")\n",
    "\n",
    "training_output = trainer.train()"
   ]
  },
  {
   "cell_type": "markdown",
   "id": "0b2f6a89-ffa6-48e3-ae0b-91714305aa65",
   "metadata": {},
   "source": [
    "# After fine-tuning"
   ]
  },
  {
   "cell_type": "code",
   "execution_count": 12,
   "id": "0ef63a09-9635-4803-ba93-cb3435d23554",
   "metadata": {},
   "outputs": [
    {
     "name": "stdout",
     "output_type": "stream",
     "text": [
      "Example predictions after fine-tuning:\n",
      "\n",
      "Dropbox on watch after stinging Spruce P ... :     Neutral\n",
      "Disney downgraded as analyst says parks  ... :     Bearish\n",
      "Freeport upgraded as Credit Suisse sees  ... :     Bullish\n",
      "MKM Partners puts a number on Victoria's ... :     Neutral\n",
      "TJX Q3 FactSet consensus 66 cents ...        :     Neutral\n",
      "The Fed may lower the rate on its suppor ... :     Neutral\n"
     ]
    }
   ],
   "source": [
    "print('Example predictions after fine-tuning:\\n')\n",
    "for example in examples:\n",
    "    inputs = tokenizer.encode(example, return_tensors=\"pt\").to(device)\n",
    "    logits = model(inputs).logits\n",
    "    predictions = torch.argmax(logits)\n",
    "    snippet = f'{example[:40]} ... '.ljust(45, ' ') + ':'\n",
    "    print(f'{snippet:50} {id2label[predictions.tolist()]}')"
   ]
  },
  {
   "cell_type": "markdown",
   "id": "72301d1a-dd2b-4c4d-aaaa-7caea4b440ed",
   "metadata": {},
   "source": [
    "# Performance increases dramatically after a single epoch of training and no hyperparameter tuning."
   ]
  },
  {
   "cell_type": "code",
   "execution_count": 13,
   "id": "ab144152-2aaa-483e-87e9-3bbf7ae95a2f",
   "metadata": {},
   "outputs": [
    {
     "name": "stdout",
     "output_type": "stream",
     "text": [
      "train: {'accuracy': 0.8568, 'recall': 0.8568, 'precision': 0.8537, 'f1': 0.8532}\n",
      "validation: {'accuracy': 0.8467, 'recall': 0.8467, 'precision': 0.8438, 'f1': 0.8443}\n"
     ]
    }
   ],
   "source": [
    "predictions = []\n",
    "for x in x_train:\n",
    "    inputs = tokenizer.encode(x, return_tensors=\"pt\").to(device)\n",
    "    logits = model(inputs).logits\n",
    "    prediction = int(torch.argmax(logits))\n",
    "    predictions.append(prediction)\n",
    "\n",
    "model_performance['tuned']['epochs_1']['train'] = evaluate_model(model, predictions, y_train)\n",
    "print(f'train: {model_performance['tuned']['epochs_1']['train']}')\n",
    "\n",
    "predictions = []\n",
    "for x in x_val:\n",
    "    inputs = tokenizer.encode(x, return_tensors=\"pt\").to(device)\n",
    "    logits = model(inputs).logits\n",
    "    prediction = int(torch.argmax(logits))\n",
    "    predictions.append(prediction)\n",
    "\n",
    "model_performance['tuned']['epochs_1']['val'] = evaluate_model(model, predictions, y_val)\n",
    "print(f'validation: {model_performance['tuned']['epochs_1']['val']}')"
   ]
  },
  {
   "cell_type": "code",
   "execution_count": 15,
   "id": "d5f3dec4-e87d-4c8c-951e-61e30d7e8e21",
   "metadata": {},
   "outputs": [
    {
     "data": {
      "text/html": [
       "\n",
       "    <div>\n",
       "      \n",
       "      <progress value='11930' max='11930' style='width:300px; height:20px; vertical-align: middle;'></progress>\n",
       "      [11930/11930 03:56, Epoch 5/5]\n",
       "    </div>\n",
       "    <table border=\"1\" class=\"dataframe\">\n",
       "  <thead>\n",
       " <tr style=\"text-align: left;\">\n",
       "      <th>Epoch</th>\n",
       "      <th>Training Loss</th>\n",
       "      <th>Validation Loss</th>\n",
       "      <th>Accuracy</th>\n",
       "    </tr>\n",
       "  </thead>\n",
       "  <tbody>\n",
       "    <tr>\n",
       "      <td>1</td>\n",
       "      <td>0.600600</td>\n",
       "      <td>0.583047</td>\n",
       "      <td>{'accuracy': 0.8115577889447236}</td>\n",
       "    </tr>\n",
       "    <tr>\n",
       "      <td>2</td>\n",
       "      <td>0.560600</td>\n",
       "      <td>0.528786</td>\n",
       "      <td>{'accuracy': 0.833752093802345}</td>\n",
       "    </tr>\n",
       "    <tr>\n",
       "      <td>3</td>\n",
       "      <td>0.495700</td>\n",
       "      <td>0.496978</td>\n",
       "      <td>{'accuracy': 0.852177554438861}</td>\n",
       "    </tr>\n",
       "    <tr>\n",
       "      <td>4</td>\n",
       "      <td>0.439900</td>\n",
       "      <td>0.528468</td>\n",
       "      <td>{'accuracy': 0.8613902847571189}</td>\n",
       "    </tr>\n",
       "    <tr>\n",
       "      <td>5</td>\n",
       "      <td>0.427100</td>\n",
       "      <td>0.554190</td>\n",
       "      <td>{'accuracy': 0.8613902847571189}</td>\n",
       "    </tr>\n",
       "  </tbody>\n",
       "</table><p>"
      ],
      "text/plain": [
       "<IPython.core.display.HTML object>"
      ]
     },
     "metadata": {},
     "output_type": "display_data"
    }
   ],
   "source": [
    "n_epochs = 5\n",
    "strategy = 'epoch'\n",
    "reg_strength = 0.01\n",
    "\n",
    "output_dir = f'./{model_name}-sentiment-analysis'\n",
    "\n",
    "# encapsulate our hyperparameters with a TrainingArguments object\n",
    "training_args = TrainingArguments(\n",
    "    output_dir=output_dir,\n",
    "    learning_rate=lr,\n",
    "    per_device_train_batch_size=batch_size,\n",
    "    per_device_eval_batch_size=batch_size,\n",
    "    num_train_epochs=n_epochs,\n",
    "    weight_decay=reg_strength,\n",
    "    evaluation_strategy=strategy,\n",
    "    save_strategy=strategy,\n",
    "    load_best_model_at_end=True,\n",
    ")\n",
    "\n",
    "# everything we need to train and evaluate the model will be encapsulated by this Trainer object\n",
    "trainer = Trainer(\n",
    "    model=model,\n",
    "    args=training_args,\n",
    "    train_dataset=tokenized_dataset[\"train\"],\n",
    "    eval_dataset=tokenized_dataset[\"validation\"],\n",
    "    tokenizer=tokenizer,\n",
    "    data_collator=data_collator,\n",
    "    compute_metrics=get_accuracy,\n",
    ")\n",
    "\n",
    "training_output = trainer.train()"
   ]
  },
  {
   "cell_type": "code",
   "execution_count": 16,
   "id": "46a40aa2-16ea-457f-9756-722bec3d3751",
   "metadata": {},
   "outputs": [
    {
     "name": "stdout",
     "output_type": "stream",
     "text": [
      "train: {'accuracy': 0.8969, 'recall': 0.8969, 'precision': 0.8958, 'f1': 0.8949}\n",
      "validation: {'accuracy': 0.8522, 'recall': 0.8522, 'precision': 0.8496, 'f1': 0.8481}\n"
     ]
    }
   ],
   "source": [
    "predictions = []\n",
    "for x in x_train:\n",
    "    inputs = tokenizer.encode(x, return_tensors=\"pt\").to(device)\n",
    "    logits = model(inputs).logits\n",
    "    prediction = int(torch.argmax(logits))\n",
    "    predictions.append(prediction)\n",
    "\n",
    "model_performance['tuned']['epochs_5']['train'] = evaluate_model(model, predictions, y_train)\n",
    "print(f'train: {model_performance['tuned']['epochs_5']['train']}')\n",
    "\n",
    "predictions = []\n",
    "for x in x_val:\n",
    "    inputs = tokenizer.encode(x, return_tensors=\"pt\").to(device)\n",
    "    logits = model(inputs).logits\n",
    "    prediction = int(torch.argmax(logits))\n",
    "    predictions.append(prediction)\n",
    "\n",
    "model_performance['tuned']['epochs_5']['val'] = evaluate_model(model, predictions, y_val)\n",
    "print(f'validation: {model_performance['tuned']['epochs_5']['val']}')"
   ]
  },
  {
   "cell_type": "code",
   "execution_count": 87,
   "id": "c2438caf-8a18-40f1-aef1-8b593620af6c",
   "metadata": {},
   "outputs": [
    {
     "data": {
      "image/png": "[encoded data removed]",
      "text/plain": [
       "<Figure size 2000x400 with 4 Axes>"
      ]
     },
     "metadata": {},
     "output_type": "display_data"
    }
   ],
   "source": [
    "fig, axes = plt.subplots(1, 4, layout='constrained', figsize=(20,4))\n",
    "\n",
    "for i, ax in enumerate(axes):\n",
    "    species = ('Training', 'Validation')\n",
    "    metric = METRICS[i]\n",
    "    metrics = {\n",
    "        'Untuned': (model_performance['untuned']['train'][metric]*100,\n",
    "                    model_performance['untuned']['val'][metric]*100),\n",
    "        '1 Epoch': (model_performance['tuned']['epochs_1']['train'][metric]*100, \n",
    "                    model_performance['tuned']['epochs_1']['val'][metric]*100),\n",
    "        '5 Epochs': (model_performance['tuned']['epochs_5']['train'][metric]*100, \n",
    "                     model_performance['tuned']['epochs_5']['val'][metric]*100)\n",
    "    }\n",
    "    \n",
    "    x = np.arange(len(species))  # the label locations\n",
    "    width = 0.2  # the width of the bars\n",
    "    multiplier = 2\n",
    "    \n",
    "    for attribute, measurement in metrics.items():\n",
    "        offset = width * multiplier\n",
    "        rects = ax.bar(x + offset, measurement, width, label=attribute)\n",
    "        ax.bar_label(rects, padding=3)\n",
    "        multiplier += 1\n",
    "    \n",
    "    ax.set_ylabel('%')\n",
    "    ax.set_title(metric)\n",
    "    ax.set_xticks(x + width + 0.4, species)\n",
    "    ax.set_yticks([])\n",
    "    ax.legend(loc='upper left', ncols=3)\n",
    "    ax.set_ylim(0, 110)\n",
    "    \n",
    "plt.show()"
   ]
  },
  {
   "cell_type": "markdown",
   "id": "73fdf0b9-31ad-47b8-9b0f-fe859ca4b8d8",
   "metadata": {},
   "source": [
    "# Uploading model to HuggingFace"
   ]
  },
  {
   "cell_type": "code",
   "execution_count": 17,
   "id": "cf3e3ba9-1faf-49f2-b78e-576feb90f44e",
   "metadata": {},
   "outputs": [
    {
     "name": "stdout",
     "output_type": "stream",
     "text": [
      "Token has not been saved to git credential helper. Pass `add_to_git_credential=True` if you want to set the git credential as well.\n",
      "Token is valid (permission: write).\n",
      "Your token has been saved to C:\\Users\\rosam\\.cache\\huggingface\\token\n",
      "Login successful\n"
     ]
    }
   ],
   "source": [
    "with open('access_token.txt', 'r') as f:\n",
    "    access_token = f.read()\n",
    "\n",
    "login(access_token)"
   ]
  },
  {
   "cell_type": "code",
   "execution_count": 18,
   "id": "021422d4-09e3-44c6-9046-ef97d09cffee",
   "metadata": {},
   "outputs": [],
   "source": [
    "USERNAME = 'gnz5'\n",
    "MODEL_PATH = 'distilbert-base-uncased-sentiment-analysis'\n",
    "model_id = f'{USERNAME}/{MODEL_PATH}'"
   ]
  },
  {
   "cell_type": "code",
   "execution_count": 19,
   "id": "f95c87d6-5105-4a53-8587-ade1afa80d72",
   "metadata": {},
   "outputs": [
    {
     "data": {
      "application/vnd.jupyter.widget-view+json": {
       "model_id": "89bc4dcfb0304c12a97bac876cb87019",
       "version_major": 2,
       "version_minor": 0
      },
      "text/plain": [
       "README.md:   0%|          | 0.00/1.55k [00:00<?, ?B/s]"
      ]
     },
     "metadata": {},
     "output_type": "display_data"
    },
    {
     "data": {
      "application/vnd.jupyter.widget-view+json": {
       "model_id": "a71de33bc81b4f55aa0b5b2cf1731594",
       "version_major": 2,
       "version_minor": 0
      },
      "text/plain": [
       "adapter_model.safetensors:   0%|          | 0.00/2.52M [00:00<?, ?B/s]"
      ]
     },
     "metadata": {},
     "output_type": "display_data"
    },
    {
     "data": {
      "text/plain": [
       "CommitInfo(commit_url='https://huggingface.co/gnz5/distilbert-base-uncased-sentiment-analysis/commit/765a25644c009b7e1bbb17d7c1fd31526324e027', commit_message='Upload model', commit_description='', oid='765a25644c009b7e1bbb17d7c1fd31526324e027', pr_url=None, pr_revision=None, pr_num=None)"
      ]
     },
     "execution_count": 19,
     "metadata": {},
     "output_type": "execute_result"
    }
   ],
   "source": [
    "model.push_to_hub(model_id)"
   ]
  },
  {
   "cell_type": "code",
   "execution_count": 20,
   "id": "f3ae6a6b-8025-4f46-ac17-c6a71790cb82",
   "metadata": {},
   "outputs": [
    {
     "data": {
      "application/vnd.jupyter.widget-view+json": {
       "model_id": "a460fb3a89c24847924c314b928b3b79",
       "version_major": 2,
       "version_minor": 0
      },
      "text/plain": [
       "training_args.bin:   0%|          | 0.00/5.05k [00:00<?, ?B/s]"
      ]
     },
     "metadata": {},
     "output_type": "display_data"
    },
    {
     "data": {
      "text/plain": [
       "CommitInfo(commit_url='https://huggingface.co/gnz5/distilbert-base-uncased-sentiment-analysis/commit/84000b253b6305d1f3245f253d1a6d8dfc93dc31', commit_message='gnz5/distilbert-base-uncased-sentiment-analysis', commit_description='', oid='84000b253b6305d1f3245f253d1a6d8dfc93dc31', pr_url=None, pr_revision=None, pr_num=None)"
      ]
     },
     "execution_count": 20,
     "metadata": {},
     "output_type": "execute_result"
    }
   ],
   "source": [
    "trainer.push_to_hub(model_id)"
   ]
  },
  {
   "cell_type": "code",
   "execution_count": 21,
   "id": "bc3cad4c-6338-4e5c-bd24-42d91a489fb1",
   "metadata": {},
   "outputs": [
    {
     "data": {
      "application/vnd.jupyter.widget-view+json": {
       "model_id": "ad10fbe400c8438288b108baeb9d74b9",
       "version_major": 2,
       "version_minor": 0
      },
      "text/plain": [
       "adapter_config.json:   0%|          | 0.00/631 [00:00<?, ?B/s]"
      ]
     },
     "metadata": {},
     "output_type": "display_data"
    },
    {
     "name": "stderr",
     "output_type": "stream",
     "text": [
      "Some weights of DistilBertForSequenceClassification were not initialized from the model checkpoint at distilbert-base-uncased and are newly initialized: ['classifier.bias', 'classifier.weight', 'pre_classifier.bias', 'pre_classifier.weight']\n",
      "You should probably TRAIN this model on a down-stream task to be able to use it for predictions and inference.\n"
     ]
    },
    {
     "data": {
      "application/vnd.jupyter.widget-view+json": {
       "model_id": "ac3895b847dc4eca828fc343d474de1f",
       "version_major": 2,
       "version_minor": 0
      },
      "text/plain": [
       "adapter_model.safetensors:   0%|          | 0.00/2.52M [00:00<?, ?B/s]"
      ]
     },
     "metadata": {},
     "output_type": "display_data"
    },
    {
     "data": {
      "text/plain": [
       "PeftModelForSequenceClassification(\n",
       "  (base_model): LoraModel(\n",
       "    (model): DistilBertForSequenceClassification(\n",
       "      (distilbert): DistilBertModel(\n",
       "        (embeddings): Embeddings(\n",
       "          (word_embeddings): Embedding(30522, 768, padding_idx=0)\n",
       "          (position_embeddings): Embedding(512, 768)\n",
       "          (LayerNorm): LayerNorm((768,), eps=1e-12, elementwise_affine=True)\n",
       "          (dropout): Dropout(p=0.1, inplace=False)\n",
       "        )\n",
       "        (transformer): Transformer(\n",
       "          (layer): ModuleList(\n",
       "            (0-5): 6 x TransformerBlock(\n",
       "              (attention): MultiHeadSelfAttention(\n",
       "                (dropout): Dropout(p=0.1, inplace=False)\n",
       "                (q_lin): lora.Linear(\n",
       "                  (base_layer): Linear(in_features=768, out_features=768, bias=True)\n",
       "                  (lora_dropout): ModuleDict(\n",
       "                    (default): Dropout(p=0.01, inplace=False)\n",
       "                  )\n",
       "                  (lora_A): ModuleDict(\n",
       "                    (default): Linear(in_features=768, out_features=4, bias=False)\n",
       "                  )\n",
       "                  (lora_B): ModuleDict(\n",
       "                    (default): Linear(in_features=4, out_features=768, bias=False)\n",
       "                  )\n",
       "                  (lora_embedding_A): ParameterDict()\n",
       "                  (lora_embedding_B): ParameterDict()\n",
       "                )\n",
       "                (k_lin): Linear(in_features=768, out_features=768, bias=True)\n",
       "                (v_lin): Linear(in_features=768, out_features=768, bias=True)\n",
       "                (out_lin): Linear(in_features=768, out_features=768, bias=True)\n",
       "              )\n",
       "              (sa_layer_norm): LayerNorm((768,), eps=1e-12, elementwise_affine=True)\n",
       "              (ffn): FFN(\n",
       "                (dropout): Dropout(p=0.1, inplace=False)\n",
       "                (lin1): Linear(in_features=768, out_features=3072, bias=True)\n",
       "                (lin2): Linear(in_features=3072, out_features=768, bias=True)\n",
       "                (activation): GELUActivation()\n",
       "              )\n",
       "              (output_layer_norm): LayerNorm((768,), eps=1e-12, elementwise_affine=True)\n",
       "            )\n",
       "          )\n",
       "        )\n",
       "      )\n",
       "      (pre_classifier): ModulesToSaveWrapper(\n",
       "        (original_module): Linear(in_features=768, out_features=768, bias=True)\n",
       "        (modules_to_save): ModuleDict(\n",
       "          (default): Linear(in_features=768, out_features=768, bias=True)\n",
       "        )\n",
       "      )\n",
       "      (classifier): ModulesToSaveWrapper(\n",
       "        (original_module): Linear(in_features=768, out_features=3, bias=True)\n",
       "        (modules_to_save): ModuleDict(\n",
       "          (default): Linear(in_features=768, out_features=3, bias=True)\n",
       "        )\n",
       "      )\n",
       "      (dropout): Dropout(p=0.2, inplace=False)\n",
       "    )\n",
       "  )\n",
       ")"
      ]
     },
     "execution_count": 21,
     "metadata": {},
     "output_type": "execute_result"
    }
   ],
   "source": [
    "config = PeftConfig.from_pretrained(model_id)\n",
    "loaded_model = AutoModelForSequenceClassification.from_pretrained(\n",
    "    config.base_model_name_or_path, \n",
    "    num_labels=len(id2label.keys()), \n",
    "    id2label=id2label, \n",
    "    label2id=label2id\n",
    ")\n",
    "tokenizer = AutoTokenizer.from_pretrained(config.base_model_name_or_path)\n",
    "model = PeftModel.from_pretrained(loaded_model, model_id)\n",
    "model.to(device)"
   ]
  },
  {
   "cell_type": "markdown",
   "id": "b7dd05a6-2eb1-4843-ba49-bf6e0cfbd2b1",
   "metadata": {},
   "source": [
    "# References\n",
    "\n",
    "### Papers:\n",
    "https://arxiv.org/abs/2309.15223\n",
    "\n",
    "https://arxiv.org/abs/1910.01108\n",
    "\n",
    "### APIs:\n",
    "https://huggingface.co/docs/peft/index\n",
    "\n",
    "https://huggingface.co/docs/peft/en/package_reference/lora\n",
    "\n",
    "https://huggingface.co/docs/evaluate/en/base_evaluator"
   ]
  }
 ],
 "metadata": {
  "kernelspec": {
   "display_name": "Python 3 (ipykernel)",
   "language": "python",
   "name": "python3"
  },
  "language_info": {
   "codemirror_mode": {
    "name": "ipython",
    "version": 3
   },
   "file_extension": ".py",
   "mimetype": "text/x-python",
   "name": "python",
   "nbconvert_exporter": "python",
   "pygments_lexer": "ipython3",
   "version": "3.12.3"
  }
 },
 "nbformat": 4,
 "nbformat_minor": 5
}
